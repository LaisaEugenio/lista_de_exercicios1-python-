{
  "nbformat": 4,
  "nbformat_minor": 0,
  "metadata": {
    "colab": {
      "provenance": [],
      "include_colab_link": true
    },
    "kernelspec": {
      "name": "python3",
      "display_name": "Python 3"
    },
    "language_info": {
      "name": "python"
    }
  },
  "cells": [
    {
      "cell_type": "markdown",
      "metadata": {
        "id": "view-in-github",
        "colab_type": "text"
      },
      "source": [
        "<a href=\"https://colab.research.google.com/github/LaisaEugenio/lista_de_exercicios1-python-/blob/main/Exercicios_Estrutura_Condicional_FATEC.ipynb\" target=\"_parent\"><img src=\"https://colab.research.google.com/assets/colab-badge.svg\" alt=\"Open In Colab\"/></a>"
      ]
    },
    {
      "cell_type": "code",
      "source": [
        "# ...\n",
        "nome = input(\"Digite seu nome: \")\n",
        "idade = int(input(\"Digite sua idade: \"))\n",
        "\n",
        "if idade<16:\n",
        "  print(\"Cresça primeiro!!!!Depois tire o título e vote!\")\n",
        "else:\n",
        "  titulo = int(input(\"Digite 1 se possuir titulo ou 0 se não tiver: \"))\n",
        "  if titulo != 1:\n",
        "    print(\"OLÁ,\",nome,\" VOCÊ NÃO PODE VOTAR!\")\n",
        "  elif idade>70 or (idade>=16 and idade <18):\n",
        "    print(\"OLÁ,\",nome,\" VOTO OPCIONAL\")\n",
        "  else:\n",
        "    print(\"OLÁ,\",nome,\" VOTO OBRIGATÓRIO\")"
      ],
      "metadata": {
        "colab": {
          "base_uri": "https://localhost:8080/"
        },
        "id": "39BjBkBzJZzn",
        "outputId": "66a5835d-8a40-4cd3-f43d-d3b0112fe927"
      },
      "execution_count": null,
      "outputs": [
        {
          "output_type": "stream",
          "name": "stdout",
          "text": [
            "Digite seu nome: dsfsdf\n",
            "Digite sua idade: 80\n",
            "Digite 1 se possuir titulo ou 0 se não tiver: 1\n",
            "OLÁ, dsfsdf  VOTO OPCIONAL\n"
          ]
        }
      ]
    },
    {
      "cell_type": "markdown",
      "source": [
        "# **Lista de Exercícios:**"
      ],
      "metadata": {
        "id": "OILQbqT6Jg6d"
      }
    },
    {
      "cell_type": "markdown",
      "source": [
        "1.\tCrie um programa que peça ao usuário para inserir um número e verifique se é positivo, negativo ou zero."
      ],
      "metadata": {
        "id": "OhajSa8-Jiwv"
      }
    },
    {
      "cell_type": "code",
      "source": [
        "#exercício 1\n",
        "\n",
        "numero = float(input(\"Digite um número: \"))\n",
        "\n",
        "if numero > 0:\n",
        "    print(\"O número é positivo.\")\n",
        "elif numero < 0:\n",
        "    print(\"O número é negativo.\")\n",
        "else:\n",
        "    print(\"O número é zero.\")"
      ],
      "metadata": {
        "id": "-9CDkSMNJV7l"
      },
      "execution_count": null,
      "outputs": []
    },
    {
      "cell_type": "markdown",
      "source": [
        "2.\tEscreva um código que verifique a idade de uma pessoa e imprima se ela é menor de idade, maior de idade ou idosa."
      ],
      "metadata": {
        "id": "MGRULY1uJljH"
      }
    },
    {
      "cell_type": "code",
      "source": [
        "#exercício 2\n",
        "idade = int(input(\"Digite sua idade: \"))\n",
        "\n",
        "if idade < 18:\n",
        "    print(\"Você é menor de idade.\")\n",
        "elif idade >= 18 and idade < 60:\n",
        "    print(\"Você é maior de idade.\")\n",
        "else:\n",
        "    print(\"Você é idoso(a).\")"
      ],
      "metadata": {
        "id": "jd4n-jI6JYBY"
      },
      "execution_count": null,
      "outputs": []
    },
    {
      "cell_type": "markdown",
      "source": [
        "3.\tFaça um programa que peça a nota de um aluno e informe se ele foi aprovado (nota >= 7), de recuperação (5 <= nota < 7) ou reprovado (nota < 5)."
      ],
      "metadata": {
        "id": "hSC1gejzJn-X"
      }
    },
    {
      "cell_type": "code",
      "source": [
        "# Exercício 3\n",
        "nota = float(input(\"Digite a nota do aluno (0 a 10): \"))\n",
        "\n",
        "if 0 <= nota <= 10:\n",
        "\n",
        "    if nota >= 7:\n",
        "        print(\"Aprovado.\")\n",
        "    elif 5 <= nota < 7:\n",
        "        print(\"Recuperação.\")\n",
        "    else:\n",
        "        print(\"Reprovado.\")\n",
        "else:\n",
        "    print(\"Nota inválida. Insira uma nota entre 0 e 10.\")"
      ],
      "metadata": {
        "id": "ar0roEzeJcYc"
      },
      "execution_count": null,
      "outputs": []
    },
    {
      "cell_type": "markdown",
      "source": [
        "4.\tCrie um sistema que determine se uma pessoa pode tirar carteira de motorista (idade mínima de 18 anos)."
      ],
      "metadata": {
        "id": "dLmLWyOrJqzX"
      }
    },
    {
      "cell_type": "code",
      "source": [
        "#exercício 4\n",
        "idade = int(input(\"Digite sua idade: \"))\n",
        "\n",
        "if idade >= 18:\n",
        "    print(\"Você pode tirar a carteira de motorista.\")\n",
        "else:\n",
        "    print(\"Você não pode tirar a carteira de motorista. Idade mínima é 18 anos.\")"
      ],
      "metadata": {
        "id": "Ubvz1sTVJhSP"
      },
      "execution_count": null,
      "outputs": []
    },
    {
      "cell_type": "markdown",
      "source": [
        "5.\tDesenvolva um programa que verifique se um ano é bissexto."
      ],
      "metadata": {
        "id": "MvuFRPn8Jtoo"
      }
    },
    {
      "cell_type": "markdown",
      "source": [
        "Como determinar se um ano é bissexto\n",
        "Para determinar se um ano é bissexto, execute estas etapas:\n",
        "\n",
        "1. Se o ano for uniformemente divisível por 4, vá para a etapa 2. Caso contrário, vá para a etapa 5.\n",
        "2. Se o ano for uniformemente divisível por 100, vá para a etapa 3. Caso contrário, vá para a etapa 4.\n",
        "3. Se o ano for uniformemente divisível por 400, vá para a etapa 4. Caso contrário, vá para a etapa 5.\n",
        "4. O ano é bissexto (tem 366 dias).\n",
        "5. O ano não é um ano bissexto (tem 365 dias)."
      ],
      "metadata": {
        "id": "2efg4JHxlM7A"
      }
    },
    {
      "cell_type": "code",
      "source": [
        "# DICA: Para saber se um ano é bissexto, basta verificar se é divisível por 4.\n",
        "# Por exemplo, 1988, 1992 e 1996 são anos bissextos.\n",
        "\n",
        "# No entanto, para evitar que o calendário fique muito diferente do ano solar,\n",
        "# os anos terminados em 00 (múltiplos de 100) só são bissextos se o resultado\n",
        "# da divisão por 400 for exato.\n",
        "\n",
        "ano = 1600\n",
        "resto = ano % 4\n",
        "resto"
      ],
      "metadata": {
        "colab": {
          "base_uri": "https://localhost:8080/"
        },
        "id": "G3X9_VT_jlZi",
        "outputId": "40602800-7bdd-43e7-cd83-71a5795d0ae0"
      },
      "execution_count": null,
      "outputs": [
        {
          "output_type": "execute_result",
          "data": {
            "text/plain": [
              "0"
            ]
          },
          "metadata": {},
          "execution_count": 45
        }
      ]
    },
    {
      "cell_type": "code",
      "source": [
        "#exercício 5\n",
        "ano = int(input(\"Digite um ano: \"))\n",
        "\n",
        "if ano % 4 == 0:\n",
        "\n",
        "    if ano % 100 == 0:\n",
        "\n",
        "        if ano % 400 == 0:\n",
        "            print(\"O ano \",ano, \" é bissexto (tem 366 dias).\")\n",
        "\n",
        "        else:\n",
        "            print(\"O ano \",ano, \" não é bissexto (tem 365 dias).\")\n",
        "\n",
        "    else:\n",
        "        print(\"O ano \",ano, \" é bissexto (tem 366 dias).\")\n",
        "\n",
        "else:\n",
        "    print(\"O ano\",ano, \"não é bissexto (tem 365 dias).\")\n"
      ],
      "metadata": {
        "id": "HhP3QREVJleO",
        "outputId": "a227744d-ae0c-4100-f249-c9bb10bc531e",
        "colab": {
          "base_uri": "https://localhost:8080/"
        }
      },
      "execution_count": null,
      "outputs": [
        {
          "output_type": "stream",
          "name": "stdout",
          "text": [
            "Digite um ano: 2020\n",
            "O ano 2020 é bissexto (tem 366 dias).\n"
          ]
        }
      ]
    },
    {
      "cell_type": "markdown",
      "source": [
        "6.\tEscreva um código que peça ao usuário para inserir uma letra e informe se ela é uma vogal ou uma consoante."
      ],
      "metadata": {
        "id": "_jS31FX3JvrG"
      }
    },
    {
      "cell_type": "code",
      "source": [
        "#exercício 6\n",
        "letra = input(\"Digite uma letra: \")\n",
        "\n",
        "if letra.lower() in \"aeiou\":\n",
        "    print(\"é uma vogal.\")\n",
        "else:\n",
        "    print(\"é uma consoante.\")\n"
      ],
      "metadata": {
        "id": "7uAD9U4YKbYa",
        "outputId": "bbae0d7e-08b2-4ff5-eb4f-c7b85a6c86b2",
        "colab": {
          "base_uri": "https://localhost:8080/"
        }
      },
      "execution_count": null,
      "outputs": [
        {
          "output_type": "stream",
          "name": "stdout",
          "text": [
            "Digite uma letra: a\n",
            "A letra 'a' é uma vogal.\n"
          ]
        }
      ]
    },
    {
      "cell_type": "markdown",
      "source": [
        "7.\tCrie um programa que peça o nome de um mês e informe quantos dias ele tem.\n"
      ],
      "metadata": {
        "id": "O0Wv5NCkJ1Sj"
      }
    },
    {
      "cell_type": "code",
      "source": [
        "#exercício 7\n",
        "mes = input(\"Digite o nome de um mês: \")\n",
        "\n",
        "dias_por_mes = {\n",
        "    \"Janeiro\": 31,\n",
        "    \"Fevereiro\": 28,  #não bissexto\n",
        "    \"Março\": 31,\n",
        "    \"Abril\": 30,\n",
        "    \"Maio\": 31,\n",
        "    \"Junho\": 30,\n",
        "    \"Julho\": 31,\n",
        "    \"Agosto\": 31,\n",
        "    \"Setembro\": 30,\n",
        "    \"Outubro\": 31,\n",
        "    \"Novembro\": 30,\n",
        "    \"Dezembro\": 31\n",
        "}\n",
        "if mes in dias_por_mes:\n",
        "    print(\"O mês de\",mes, \"tem\" ,dias_por_mes[mes], \"dias.\")\n",
        "else:\n",
        "    print(\"Mês Inválido\")\n",
        "\n"
      ],
      "metadata": {
        "id": "tpM7BMwYLhMD",
        "outputId": "b06bd00e-36c5-48dc-cc5c-ed3ee5b0616c",
        "colab": {
          "base_uri": "https://localhost:8080/"
        }
      },
      "execution_count": null,
      "outputs": [
        {
          "output_type": "stream",
          "name": "stdout",
          "text": [
            "Digite o nome de um mês: Agosto\n",
            "O mês de  Agosto tem  31 dias.\n"
          ]
        }
      ]
    },
    {
      "cell_type": "markdown",
      "source": [
        "8.\tDesenvolva um sistema que determine se um número é múltiplo de 3 e 5."
      ],
      "metadata": {
        "id": "EEY-66tcJ3Rc"
      }
    },
    {
      "cell_type": "code",
      "source": [
        "#exercício 8\n",
        "numero = int(input(\"Digite um número: \"))\n",
        "\n",
        "if numero % 3 == 0 and numero % 5 == 0:\n",
        "    print(\"O número\" ,numero, \"é múltiplo de 3 e 5.\")\n",
        "else:\n",
        "    print(\"O número\" ,numero, \"não é múltiplo de 3 e 5.\")\n"
      ],
      "metadata": {
        "id": "H8rIQSKdNPgo",
        "outputId": "14c3f0ae-aa56-4c1a-f0d9-07e760e5f0dc",
        "colab": {
          "base_uri": "https://localhost:8080/"
        }
      },
      "execution_count": null,
      "outputs": [
        {
          "output_type": "stream",
          "name": "stdout",
          "text": [
            "Digite um número: 15\n",
            "O número 15 é múltiplo de 3 e 5.\n"
          ]
        }
      ]
    },
    {
      "cell_type": "markdown",
      "source": [
        "9.\tFaça um código que peça ao usuário seu salário e calcule o imposto a ser pago (faixas: até `R$ 1.000`, isento; `R$ 1.001` a `R$ 3.000`, 10%; acima de `R$ 3.000`, 20%)."
      ],
      "metadata": {
        "id": "9Su10vicJ4wq"
      }
    },
    {
      "cell_type": "code",
      "source": [
        "#exercício 9\n",
        "salario = float(input(\"Digite seu salário: R$ \"))\n",
        "\n",
        "if salario <= 1000:\n",
        "    imposto = 0\n",
        "    print(\"Você está isento de imposto.\")\n",
        "elif 1001 <= salario <= 3000:\n",
        "    imposto = salario * 0.10\n",
        "    print(\"Você deve pagar 10% de imposto.\")\n",
        "else:\n",
        "    imposto = salario * 0.20\n",
        "    print(\"Você deve pagar 20% de imposto.\")\n",
        "\n",
        "print(\"O imposto a ser pago é: R$\" ,imposto)\n"
      ],
      "metadata": {
        "id": "42j23_VZN3ZM",
        "outputId": "455c53fe-5008-4ec3-a9e0-b939e6506b18",
        "colab": {
          "base_uri": "https://localhost:8080/"
        }
      },
      "execution_count": null,
      "outputs": [
        {
          "output_type": "stream",
          "name": "stdout",
          "text": [
            "Digite seu salário: R$ 2500\n",
            "Você deve pagar 10% de imposto.\n",
            "O imposto a ser pago é: R$ 250.0\n"
          ]
        }
      ]
    },
    {
      "cell_type": "markdown",
      "source": [
        "10.\tCrie um programa que pergunte a temperatura em graus Celsius e informe se está frio (abaixo de 15°C), ameno (15°C a 25°C) ou quente (acima de 25°C).\n"
      ],
      "metadata": {
        "id": "p_W20MikJ6iU"
      }
    },
    {
      "cell_type": "code",
      "source": [
        "#exercício 10\n",
        "temperatura = float(input(\"Digite a temperatura em graus Celsius: \"))\n",
        "\n",
        "if temperatura < 15:\n",
        "    print(\"Está frio.\")\n",
        "elif 15 <= temperatura <= 25:\n",
        "    print(\"Está ameno.\")\n",
        "else:\n",
        "    print(\"Está quente.\")\n"
      ],
      "metadata": {
        "id": "atsEliEZO4Kp",
        "outputId": "f69d9c23-6f19-4c8e-a11d-bd237ce56d2d",
        "colab": {
          "base_uri": "https://localhost:8080/"
        }
      },
      "execution_count": null,
      "outputs": [
        {
          "output_type": "stream",
          "name": "stdout",
          "text": [
            "Digite a temperatura em graus Celsius: 45\n",
            "Está quente.\n"
          ]
        }
      ]
    },
    {
      "cell_type": "markdown",
      "source": [
        "11.\tFaça um programa que peça o ano de nascimento e informe a classe de idade (0-12 anos, 13-17 anos, 18-59 anos, 60 anos ou mais).\n"
      ],
      "metadata": {
        "id": "cHgBQKKNJ9YC"
      }
    },
    {
      "cell_type": "code",
      "source": [
        "#exercício 11\n",
        "ano_nascimento = int(input(\"Digite seu ano de nascimento: \"))\n",
        "\n",
        "ano_atual = int(input(\"Digite o ano atual: \"))\n",
        "\n",
        "idade = ano_atual - ano_nascimento\n",
        "\n",
        "if 0 <= idade <= 12:\n",
        "    print(\"Classe de idade: 0-12 anos.\")\n",
        "elif 13 <= idade <= 17:\n",
        "    print(\"Classe de idade: 13-17 anos.\")\n",
        "elif 18 <= idade <= 59:\n",
        "    print(\"Classe de idade: 18-59 anos.\")\n",
        "else:\n",
        "    print(\"Classe de idade: 60 anos ou mais.\")\n",
        "\n"
      ],
      "metadata": {
        "id": "Nsgb9xG8PJih",
        "outputId": "c27b4941-dc69-417b-c9c7-0191e064e9a4",
        "colab": {
          "base_uri": "https://localhost:8080/"
        }
      },
      "execution_count": null,
      "outputs": [
        {
          "output_type": "stream",
          "name": "stdout",
          "text": [
            "Digite seu ano de nascimento: 2002\n",
            "Digite o ano atual: 2024\n",
            "Classe de idade: 18-59 anos.\n"
          ]
        }
      ]
    },
    {
      "cell_type": "markdown",
      "source": [
        "12.\tCrie um sistema que verifique se um triângulo é equilátero, isósceles ou escaleno com base nos comprimentos dos lados."
      ],
      "metadata": {
        "id": "HPQnV-dZJ-mL"
      }
    },
    {
      "cell_type": "code",
      "source": [
        "#exercício 12\n",
        "lado1 = float(input(\"Digite o comprimento do primeiro lado do triângulo: \"))\n",
        "lado2 = float(input(\"Digite o comprimento do segundo lado do triângulo: \"))\n",
        "lado3 = float(input(\"Digite o comprimento do terceiro lado do triângulo: \"))\n",
        "\n",
        "if lado1 + lado2 > lado3 and lado1 + lado3 > lado2 and lado2 + lado3 > lado1:\n",
        "    print(\"Os comprimentos fornecidos formam um triângulo válido.\")\n",
        "    if lado1 == lado2 == lado3:\n",
        "        print(\"O triângulo é equilátero.\")\n",
        "    elif lado1 == lado2 or lado1 == lado3 or lado2 == lado3:\n",
        "        print(\"O triângulo é isósceles.\")\n",
        "    else:\n",
        "        print(\"O triângulo é escaleno.\")\n",
        "else:\n",
        "    print(\"Os comprimentos fornecidos não formam um triângulo válido.\")\n"
      ],
      "metadata": {
        "id": "WrNIuIbWQCpt",
        "outputId": "d8a458f4-7a25-4fde-9cf6-3c500ce5bacf",
        "colab": {
          "base_uri": "https://localhost:8080/"
        }
      },
      "execution_count": null,
      "outputs": [
        {
          "output_type": "stream",
          "name": "stdout",
          "text": [
            "Digite o comprimento do primeiro lado do triângulo: 5\n",
            "Digite o comprimento do segundo lado do triângulo: 5\n",
            "Digite o comprimento do terceiro lado do triângulo: 5\n",
            "Os comprimentos fornecidos formam um triângulo válido.\n",
            "O triângulo é equilátero.\n"
          ]
        }
      ]
    },
    {
      "cell_type": "markdown",
      "source": [
        "# **DESAFIOS**"
      ],
      "metadata": {
        "id": "KO5c2G87J_ki"
      }
    },
    {
      "cell_type": "markdown",
      "source": [
        "13.\tEscreva um código que determine se um número é primo.\n"
      ],
      "metadata": {
        "id": "luRj3PH1J8F7"
      }
    },
    {
      "cell_type": "markdown",
      "source": [
        "14.\tDesenvolva um programa que peça ao usuário um número e informe a tabela de multiplicação desse número.\n",
        "\n"
      ],
      "metadata": {
        "id": "Tf6ANOFHKCSq"
      }
    },
    {
      "cell_type": "markdown",
      "source": [
        "15.\tEscreva um código que verifique se uma senha é válida (mínimo de 8 caracteres, pelo menos uma letra e um número)."
      ],
      "metadata": {
        "id": "IVM3IesrKFie"
      }
    }
  ]
}